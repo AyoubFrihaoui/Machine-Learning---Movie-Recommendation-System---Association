{
 "cells": [
  {
   "cell_type": "code",
   "execution_count": 2,
   "id": "546e328c-8bea-46d0-8f90-186bfe2620b1",
   "metadata": {},
   "outputs": [
    {
     "data": {
      "text/html": [
       "<div>\n",
       "<style scoped>\n",
       "    .dataframe tbody tr th:only-of-type {\n",
       "        vertical-align: middle;\n",
       "    }\n",
       "\n",
       "    .dataframe tbody tr th {\n",
       "        vertical-align: top;\n",
       "    }\n",
       "\n",
       "    .dataframe thead th {\n",
       "        text-align: right;\n",
       "    }\n",
       "</style>\n",
       "<table border=\"1\" class=\"dataframe\">\n",
       "  <thead>\n",
       "    <tr style=\"text-align: right;\">\n",
       "      <th></th>\n",
       "      <th>Age</th>\n",
       "      <th>cholesterol</th>\n",
       "      <th>stroke</th>\n",
       "    </tr>\n",
       "  </thead>\n",
       "  <tbody>\n",
       "    <tr>\n",
       "      <th>0</th>\n",
       "      <td>2.0</td>\n",
       "      <td>1.0</td>\n",
       "      <td>0</td>\n",
       "    </tr>\n",
       "    <tr>\n",
       "      <th>1</th>\n",
       "      <td>4.0</td>\n",
       "      <td>1.5</td>\n",
       "      <td>1</td>\n",
       "    </tr>\n",
       "    <tr>\n",
       "      <th>2</th>\n",
       "      <td>3.0</td>\n",
       "      <td>1.0</td>\n",
       "      <td>0</td>\n",
       "    </tr>\n",
       "    <tr>\n",
       "      <th>3</th>\n",
       "      <td>3.5</td>\n",
       "      <td>0.5</td>\n",
       "      <td>1</td>\n",
       "    </tr>\n",
       "    <tr>\n",
       "      <th>4</th>\n",
       "      <td>2.0</td>\n",
       "      <td>0.5</td>\n",
       "      <td>0</td>\n",
       "    </tr>\n",
       "    <tr>\n",
       "      <th>5</th>\n",
       "      <td>5.5</td>\n",
       "      <td>1.0</td>\n",
       "      <td>1</td>\n",
       "    </tr>\n",
       "    <tr>\n",
       "      <th>6</th>\n",
       "      <td>1.0</td>\n",
       "      <td>1.0</td>\n",
       "      <td>0</td>\n",
       "    </tr>\n",
       "  </tbody>\n",
       "</table>\n",
       "</div>"
      ],
      "text/plain": [
       "   Age  cholesterol  stroke\n",
       "0  2.0          1.0       0\n",
       "1  4.0          1.5       1\n",
       "2  3.0          1.0       0\n",
       "3  3.5          0.5       1\n",
       "4  2.0          0.5       0\n",
       "5  5.5          1.0       1\n",
       "6  1.0          1.0       0"
      ]
     },
     "execution_count": 2,
     "metadata": {},
     "output_type": "execute_result"
    }
   ],
   "source": [
    "import pandas as pd\n",
    " \n",
    "# initialize data of lists.\n",
    "data = {'Age': [2, 4, 3, 3.5,2 ,5.5 , 1],\n",
    "        'cholesterol':[1,1.5,1,0.5,0.5,1,1],\n",
    "        'stroke':[0,1,0,1,0,1,0]   }\n",
    " \n",
    "# Create DataFrame\n",
    "df = pd.DataFrame(data)\n",
    "df"
   ]
  },
  {
   "cell_type": "code",
   "execution_count": 3,
   "id": "17672ad3-40a0-48d0-b5f7-df02aa91439f",
   "metadata": {},
   "outputs": [
    {
     "data": {
      "image/png": "[encoded data removed]",
      "text/plain": [
       "<Figure size 640x480 with 1 Axes>"
      ]
     },
     "metadata": {},
     "output_type": "display_data"
    }
   ],
   "source": [
    "import numpy as np\n",
    "import matplotlib.pyplot as plt\n",
    "\n",
    "# Adding a bias term (x0) to the dataframe\n",
    "df.insert(0, 'Bias', 1)\n",
    "\n",
    "# Extracting features and target variable\n",
    "X = df[['Bias', 'Age', 'cholesterol']].values\n",
    "y = df['stroke'].values\n",
    "\n",
    "# Plotting the samples\n",
    "plt.scatter(df[df['stroke'] == 0]['Age'], df[df['stroke'] == 0]['cholesterol'], label='stroke=0', marker='o')\n",
    "plt.scatter(df[df['stroke'] == 1]['Age'], df[df['stroke'] == 1]['cholesterol'], label='stroke=1', marker='x')\n",
    "plt.xlabel('Age')\n",
    "plt.ylabel('Cholesterol')\n",
    "plt.legend()\n",
    "plt.title('Scatter plot of samples')\n",
    "plt.show()\n"
   ]
  },
  {
   "cell_type": "code",
   "execution_count": 4,
   "id": "074ca6c7-d8d1-4223-aa9f-71ff4b27fa9e",
   "metadata": {},
   "outputs": [
    {
     "name": "stdout",
     "output_type": "stream",
     "text": [
      "Theta after the first iteration: [-0.00071429  0.00357143 -0.00035714]\n",
      "Cross-entropy loss after the first iteration: 0.6918226217315945\n"
     ]
    }
   ],
   "source": [
    "# Initialize parameters\n",
    "theta = np.zeros(X.shape[1])\n",
    "alpha = 0.01\n",
    "iterations = 1\n",
    "\n",
    "# Logistic function\n",
    "def sigmoid(z):\n",
    "    return 1 / (1 + np.exp(-z))\n",
    "\n",
    "# Cost function (cross-entropy loss)\n",
    "def compute_cost(X, y, theta):\n",
    "    m = len(y)\n",
    "    h = sigmoid(np.dot(X, theta))\n",
    "    cost = (-1/m) * np.sum(y * np.log(h) + (1 - y) * np.log(1 - h))\n",
    "    return cost\n",
    "\n",
    "# Gradient Descent\n",
    "def gradient_descent(X, y, theta, alpha, iterations):\n",
    "    m = len(y)\n",
    "    cost_history = []\n",
    "\n",
    "    for _ in range(iterations):\n",
    "        h = sigmoid(np.dot(X, theta))\n",
    "        gradient = np.dot(X.T, (h - y)) / m\n",
    "        theta -= alpha * gradient\n",
    "        cost = compute_cost(X, y, theta)\n",
    "        cost_history.append(cost)\n",
    "\n",
    "    return theta, cost_history\n",
    "\n",
    "# Run gradient descent\n",
    "theta, cost_history = gradient_descent(X, y, theta, alpha, iterations)\n",
    "\n",
    "# Print the parameters after the first iteration\n",
    "print(f'Theta after the first iteration: {theta}')\n",
    "\n",
    "# Compute the cross-entropy loss after the first iteration\n",
    "initial_loss = compute_cost(X, y, theta)\n",
    "print(f'Cross-entropy loss after the first iteration: {initial_loss}')\n"
   ]
  }
 ],
 "metadata": {
  "kernelspec": {
   "display_name": "Python 3 (ipykernel)",
   "language": "python",
   "name": "python3"
  },
  "language_info": {
   "codemirror_mode": {
    "name": "ipython",
    "version": 3
   },
   "file_extension": ".py",
   "mimetype": "text/x-python",
   "name": "python",
   "nbconvert_exporter": "python",
   "pygments_lexer": "ipython3",
   "version": "3.10.12"
  }
 },
 "nbformat": 4,
 "nbformat_minor": 5
}
